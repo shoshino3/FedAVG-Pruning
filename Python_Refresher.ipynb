{
  "cells": [
    {
      "cell_type": "markdown",
      "metadata": {
        "id": "6-VA1v4W5q1H"
      },
      "source": [
        "# EE 599 HW0: Python and NumPy"
      ]
    },
    {
      "cell_type": "markdown",
      "metadata": {
        "id": "ITgCwy9WCf1Y"
      },
      "source": [
        "Your task in this Colab notebook is to learn and run all code blocks by printing out the results, and fill out the sections that are specified by **TODO** (please search the keyword `TODO` to make sure you do not miss any)."
      ]
    },
    {
      "cell_type": "markdown",
      "metadata": {
        "id": "ay9mgFSO5q1M"
      },
      "source": [
        "## Introduction"
      ]
    },
    {
      "cell_type": "markdown",
      "metadata": {
        "id": "fcfkw97U5q1N"
      },
      "source": [
        "Python is a general-purpose programming language on its own, but with the help of a few popular libraries (NumPy, SciPy, Matplotlib) it becomes a powerful environment for scientific computing.\n",
        "\n",
        "This practical will serve as a quick crash course both on the Python programming language and on the use of Python for scientific computing.\n",
        "\n",
        "Some of you may have previous experience in MATLAB, in which case we also recommend the [Numpy for MATLAB users page](https://docs.scipy.org/doc/numpy-dev/user/numpy-for-matlab-users.html)."
      ]
    },
    {
      "cell_type": "markdown",
      "metadata": {
        "id": "qo36kJw25q1P"
      },
      "source": [
        "This practical will cover:\n",
        "\n",
        "* Basic Python: Data types (containers, lists, dictionaries, sets, tuples), functions, classes\n",
        "* NumPy: Arrays, array indexing, datatypes, array mathetmatics, broadcasting\n",
        "* Matplotlib: Plotting, subplots\n",
        "* Jupyter (IPython Notebooks)"
      ]
    },
    {
      "cell_type": "markdown",
      "metadata": {
        "id": "PtwEKX1JCf1Z"
      },
      "source": [
        "## Jupyter\n",
        "\n",
        "Jupyter (previously called the IPython Notebook) is a web-based interface that allows you to write and execute Python code snippets in your browser. Each code snippet is placed in a cell. A cell can be executed by clicking inside it and pressing `Shift`+`Enter` or by clicking the `Run` button in the menu bar at the top.\n",
        "\n",
        "#### A note about variables\n",
        "\n",
        "Note that variables within a cell are stored for global use by other cells after that cell's execution. The side effect is that you can initialise a variable in one cell, run that cell, delete that cell, and the variable would still be available. Another side effect is that if a cell is updated, you have to run the consecutive cells in order for them to pick up the updated results. If this note does not make complete sense now, that's okay: complete the rest of the practical and then come back to make sure you understand what it says.\n",
        "\n",
        "#### Markdown\n",
        "\n",
        "This text here is readable because this cell's type is set to `Markdown` (see the type in the menu bar). Here is some [basic Markdown syntax](https://help.github.com/articles/markdown-basics/). You can create your own Markdown cells and leave notes and comments.\n",
        "\n",
        "When writing mathematics in a Markdown cell, you can use LaTex-like equations. For example, placing `c_1\\sin(x) + c^2_2\\,{\\rm sinc}(\\frac{\\pi}{c})` in between double dollar signs will produce an equation on a separate line: $$c_1\\sin(x) + c^2_2\\,{\\rm sinc}(\\frac{\\pi}{c})$$\n",
        "Placing `ax+b` in between single dollar signs will produce $ax+b$ inline."
      ]
    },
    {
      "cell_type": "markdown",
      "metadata": {
        "id": "CV6OV42I5q1R"
      },
      "source": [
        "## Python"
      ]
    },
    {
      "cell_type": "markdown",
      "metadata": {
        "id": "B9MacMaY5q1T"
      },
      "source": [
        "Python is a high-level, dynamically typed multiparadigm programming language. Python code is often said to be almost like pseudocode, since it allows you to express very powerful ideas in very few lines of code while being very readable. As an example, here is an implementation of the classic quicksort algorithm in Python:"
      ]
    },
    {
      "cell_type": "code",
      "execution_count": null,
      "metadata": {
        "id": "wpYJZksQ5q1W"
      },
      "outputs": [],
      "source": [
        "def quicksort(arr):\n",
        "    if len(arr) <= 1:\n",
        "        return arr\n",
        "    pivot = arr[int(len(arr) / 2)]\n",
        "    left = [x for x in arr if x < pivot]\n",
        "    middle = [x for x in arr if x == pivot]\n",
        "    right = [x for x in arr if x > pivot]\n",
        "    return quicksort(left) + middle + quicksort(right)\n",
        "\n",
        "print(quicksort([3, 6, 8, 10, 1, 2, 1]))"
      ]
    },
    {
      "cell_type": "markdown",
      "metadata": {
        "id": "LfhFbB8Z5q1i"
      },
      "source": [
        "### Python versions"
      ]
    },
    {
      "cell_type": "markdown",
      "metadata": {
        "id": "cJCjzx7Y5q1k"
      },
      "source": [
        "There are currently two different supported versions of Python, [2.7](https://docs.python.org/2/index.html/) and [3.6](https://docs.python.org/3.6/). Somewhat confusingly, Python 3.0 introduced many backwards-incompatible changes to the language, so code written for 2.7 may not work under 3.6 and vice versa. For this class,  all code will use Python 3.6.\n",
        "\n",
        "You can check your Python version at the command line by running `python --version`."
      ]
    },
    {
      "cell_type": "code",
      "execution_count": null,
      "metadata": {
        "id": "gJz5Fuv6C0T4"
      },
      "outputs": [],
      "source": [
        "!python --version"
      ]
    },
    {
      "cell_type": "markdown",
      "metadata": {
        "id": "dce_pODNDGFi"
      },
      "source": [
        "There are quite a few major housekeeping changes beween Python 2 and Python 3. For those of you who are more comfortable with Python 2, note the follow changes:\n",
        "\n",
        "| Python 2                                             | Python 3                                 |\n",
        "|------------------------------------------------------|------------------------------------------|\n",
        "| ```print``` brackets optional                              | ```print``` brackets compulsory                |\n",
        "| Integer division always returns integer              | Integer division may return float        |\n",
        "| ```Raw_input()``` reads string                             | ```Raw_input()``` is not available             |\n",
        "| ```generator.next()```                                     | ```next(generator)```                          |\n",
        "| % string format operator                             | % deprecated use ```.format()``` or ```concat()```   |\n",
        "| ```dict.iteritems()```, ```dict.iterkeys()```, ```dict.itervalues()``` | ```dict.items()```, ```dict.keys()```, ```dict.values()``` |\n",
        "| Prefix string with ```u``` for unicode                     | Unicode by default                       |\n",
        "\n",
        "\n",
        "You can read more about the differences [here](https://thispointer.com/different-ways-to-remove-a-key-from-dictionary-in-python/) or in the documentation."
      ]
    },
    {
      "cell_type": "markdown",
      "metadata": {
        "id": "sotHVM0t5q1l"
      },
      "source": [
        "### Basic data types"
      ]
    },
    {
      "cell_type": "markdown",
      "metadata": {
        "id": "THkpPxwN5q1n"
      },
      "source": [
        "#### Numbers"
      ]
    },
    {
      "cell_type": "markdown",
      "metadata": {
        "id": "f3xyLvxW5q1o"
      },
      "source": [
        "Integers and floats work as you would expect from other languages:"
      ]
    },
    {
      "cell_type": "code",
      "execution_count": null,
      "metadata": {
        "id": "bVYQAovh5q1q"
      },
      "outputs": [],
      "source": [
        "x = 3\n",
        "print(x, type(x))"
      ]
    },
    {
      "cell_type": "code",
      "execution_count": null,
      "metadata": {
        "id": "dztfWsYU5q1y"
      },
      "outputs": [],
      "source": [
        "print(x + 1)   # Addition;\n",
        "print(x - 1)   # Subtraction;\n",
        "print(x * 2)   # Multiplication;\n",
        "print(x ** 2)  # Exponentiation;"
      ]
    },
    {
      "cell_type": "code",
      "execution_count": null,
      "metadata": {
        "id": "gOmd8lBF5q16"
      },
      "outputs": [],
      "source": [
        "x += 1\n",
        "print(x)  # Prints \"4\"\n",
        "x *= 2\n",
        "print(x)  # Prints \"8\""
      ]
    },
    {
      "cell_type": "code",
      "execution_count": null,
      "metadata": {
        "id": "g4NuhVfj5q2E"
      },
      "outputs": [],
      "source": [
        "y = 2.5\n",
        "print(type(y)) # Prints \"<type 'float'>\"\n",
        "print(y, y + 1, y * 2, y ** 2) # Prints \"2.5 3.5 5.0 6.25\""
      ]
    },
    {
      "cell_type": "markdown",
      "metadata": {
        "id": "we75WUci5q2O"
      },
      "source": [
        "Note that unlike many languages, Python does not have unary increment (`x++`) or decrement (`x--`) operators.\n",
        "\n",
        "Python also has built-in types for long integers and complex numbers; you can find all of the details in the [documentation](https://docs.python.org/3.6/library/stdtypes.html#numeric-types-int-float-long-complex)."
      ]
    },
    {
      "cell_type": "markdown",
      "metadata": {
        "id": "uUl_bk835q2P"
      },
      "source": [
        "#### Booleans"
      ]
    },
    {
      "cell_type": "markdown",
      "metadata": {
        "id": "rgeh2qDx5q2Q"
      },
      "source": [
        "Python implements all of the usual operators for Boolean logic, but uses English words rather than symbols (`&&`, `||`, etc.):"
      ]
    },
    {
      "cell_type": "code",
      "execution_count": null,
      "metadata": {
        "id": "yo6wobrY5q2R"
      },
      "outputs": [],
      "source": [
        "t, f = True, False\n",
        "print(type(t)) # Prints \"<type 'bool'>\""
      ]
    },
    {
      "cell_type": "markdown",
      "metadata": {
        "id": "zsBdYsbJ5q2Z"
      },
      "source": [
        "Now we let's look at the operations:"
      ]
    },
    {
      "cell_type": "code",
      "execution_count": null,
      "metadata": {
        "id": "BNVhsasL5q2c"
      },
      "outputs": [],
      "source": [
        "print(t and f) # Logical AND;\n",
        "print(t or f)  # Logical OR;\n",
        "print(not t)   # Logical NOT;\n",
        "print(t != f)  # Logical XOR;"
      ]
    },
    {
      "cell_type": "markdown",
      "metadata": {
        "id": "jWt1jbF75q2j"
      },
      "source": [
        "#### Strings"
      ]
    },
    {
      "cell_type": "code",
      "execution_count": null,
      "metadata": {
        "id": "uyldbWX75q2k"
      },
      "outputs": [],
      "source": [
        "hello = 'hello'   # String literals can use single quotes\n",
        "world = \"world\"   # or double quotes; it does not matter.\n",
        "print(hello, len(hello))"
      ]
    },
    {
      "cell_type": "code",
      "execution_count": null,
      "metadata": {
        "id": "69vTXT6m5q2p"
      },
      "outputs": [],
      "source": [
        "hw = hello + ' ' + world  # String concatenation\n",
        "print(hw)  # prints \"hello world\""
      ]
    },
    {
      "cell_type": "markdown",
      "metadata": {
        "id": "Q-xLTBCM5q2y"
      },
      "source": [
        "String objects have a bunch of useful methods; for example:"
      ]
    },
    {
      "cell_type": "code",
      "execution_count": null,
      "metadata": {
        "id": "5tMbkHM65q20"
      },
      "outputs": [],
      "source": [
        "s = \"hello\"\n",
        "print(s.capitalize())  # Capitalize a string; prints \"Hello\"\n",
        "print(s.upper())       # Convert a string to uppercase; prints \"HELLO\"\n",
        "print(s.rjust(7))      # Right-justify a string, padding with spaces; prints \"  hello\"\n",
        "print(s.center(7))     # Center a string, padding with spaces; prints \" hello \"\n",
        "print(s.replace('l', '(ell)'))  # Replace all instances of one substring with another;\n",
        "                                # prints \"he(ell)(ell)o\"\n",
        "print('  world '.strip())  # Strip leading and trailing whitespace; prints \"world\""
      ]
    },
    {
      "cell_type": "markdown",
      "metadata": {
        "id": "7iVAp_Hm5q24"
      },
      "source": [
        "You can find a list of all string methods in the [documentation](https://docs.python.org/3/library/stdtypes.html#string-methods)."
      ]
    },
    {
      "cell_type": "markdown",
      "metadata": {
        "id": "jHCAFmb95q25"
      },
      "source": [
        "### Containers"
      ]
    },
    {
      "cell_type": "markdown",
      "metadata": {
        "id": "-PerHSky5q25"
      },
      "source": [
        "Python includes several built-in container types: lists, dictionaries, sets, and tuples."
      ]
    },
    {
      "cell_type": "markdown",
      "metadata": {
        "id": "f9BNPsMT5q27"
      },
      "source": [
        "#### Lists"
      ]
    },
    {
      "cell_type": "markdown",
      "metadata": {
        "id": "ipDjlY6S5q28"
      },
      "source": [
        "A list is the Python equivalent of an array, but is resizeable and can contain elements of different types:"
      ]
    },
    {
      "cell_type": "code",
      "execution_count": null,
      "metadata": {
        "id": "4_TQGb2i5q29"
      },
      "outputs": [],
      "source": [
        "xs = [3, 1, 2]   # Create a list\n",
        "print(xs, xs[2])\n",
        "print(xs[-1])     # Negative indices count from the end of the list; prints \"2\""
      ]
    },
    {
      "cell_type": "code",
      "execution_count": null,
      "metadata": {
        "id": "aqoDqKcQ5q3A"
      },
      "outputs": [],
      "source": [
        "xs[2] = 'foo'    # Lists can contain elements of different types\n",
        "print(xs)"
      ]
    },
    {
      "cell_type": "code",
      "execution_count": null,
      "metadata": {
        "id": "WrloXM9J5q3G"
      },
      "outputs": [],
      "source": [
        "xs.append('bar') # Add a new element to the end of the list\n",
        "print(xs)"
      ]
    },
    {
      "cell_type": "code",
      "execution_count": null,
      "metadata": {
        "id": "EkQ9BNzz5q3J"
      },
      "outputs": [],
      "source": [
        "x = xs.pop()     # Remove and return the last element of the list\n",
        "print(x, xs)"
      ]
    },
    {
      "cell_type": "markdown",
      "metadata": {
        "id": "wTDsbYOh5q3N"
      },
      "source": [
        "As usual, you can find all the gory details about lists in the [documentation](https://docs.python.org/3/tutorial/datastructures.html#more-on-lists)."
      ]
    },
    {
      "cell_type": "markdown",
      "metadata": {
        "id": "OwN1QfB25q3P"
      },
      "source": [
        "#### Slicing"
      ]
    },
    {
      "cell_type": "markdown",
      "metadata": {
        "id": "jcMqNrgu5q3Q"
      },
      "source": [
        "In addition to accessing list elements one at a time, Python provides concise syntax to access sublists; this is known as slicing:"
      ]
    },
    {
      "cell_type": "code",
      "execution_count": null,
      "metadata": {
        "id": "wwZ6SA-L5q3Q"
      },
      "outputs": [],
      "source": [
        "nums = list(range(5))      # range is a built-in function that creates an iterator, which we turn into a list of integers\n",
        "print(nums)         # Prints \"[0, 1, 2, 3, 4]\"\n",
        "print(nums[2:4])    # Get a slice from index 2 to 4 (exclusive); prints \"[2, 3]\"\n",
        "print(nums[2:])     # Get a slice from index 2 to the end; prints \"[2, 3, 4]\"\n",
        "print(nums[:2])     # Get a slice from the start to index 2 (exclusive); prints \"[0, 1]\"\n",
        "print(nums[:])      # Get a slice of the whole list; prints \"[0, 1, 2, 3, 4]\"\n",
        "print(nums[:-1])    # Slice indices can be negative; prints \"[0, 1, 2, 3]\"\n",
        "nums[2:4] = [8, 9]  # Assign a new sublist to a slice\n",
        "print(nums)         # Prints \"[0, 1, 8, 8, 4]\""
      ]
    },
    {
      "cell_type": "markdown",
      "metadata": {
        "id": "5xiRdmop5q3V"
      },
      "source": [
        "#### Loops"
      ]
    },
    {
      "cell_type": "markdown",
      "metadata": {
        "id": "W4aIykm35q3W"
      },
      "source": [
        "You can loop over the elements of a list like this:"
      ]
    },
    {
      "cell_type": "code",
      "execution_count": null,
      "metadata": {
        "id": "DzPkWoQU5q3X"
      },
      "outputs": [],
      "source": [
        "animals = ['cat', 'dog', 'monkey']\n",
        "for animal in animals:\n",
        "    print(animal)"
      ]
    },
    {
      "cell_type": "markdown",
      "metadata": {
        "id": "SfjRY7oh5q3c"
      },
      "source": [
        "If you want access to the index of each element within the body of a loop, use the built-in `enumerate` function:"
      ]
    },
    {
      "cell_type": "code",
      "execution_count": null,
      "metadata": {
        "id": "KHfWh7cm5q3d"
      },
      "outputs": [],
      "source": [
        "animals = ['cat', 'dog', 'monkey']\n",
        "for idx, animal in enumerate(animals):\n",
        "    print('#{}: {}'.format(idx + 1, animal))"
      ]
    },
    {
      "cell_type": "markdown",
      "metadata": {
        "id": "GbMrJih65q3f"
      },
      "source": [
        "#### List comprehensions"
      ]
    },
    {
      "cell_type": "markdown",
      "metadata": {
        "id": "uEw19H_q5q3g"
      },
      "source": [
        "When programming, frequently we want to transform one type of data into another. As a simple example, consider the following code that computes square numbers:"
      ]
    },
    {
      "cell_type": "code",
      "execution_count": null,
      "metadata": {
        "id": "q3nPnpPE5q3h"
      },
      "outputs": [],
      "source": [
        "nums = [0, 1, 2, 3, 4]\n",
        "squares = []\n",
        "for x in nums:\n",
        "    squares.append(x ** 2)\n",
        "print(squares)"
      ]
    },
    {
      "cell_type": "markdown",
      "metadata": {
        "id": "uSsysiX95q3k"
      },
      "source": [
        "You can make this code simpler using a list comprehension:"
      ]
    },
    {
      "cell_type": "code",
      "execution_count": null,
      "metadata": {
        "id": "k4ezY_Vn5q3l"
      },
      "outputs": [],
      "source": [
        "nums = [0, 1, 2, 3, 4]\n",
        "squares = [x ** 2 for x in nums]\n",
        "print(squares)"
      ]
    },
    {
      "cell_type": "markdown",
      "metadata": {
        "id": "2r-xDQrV5q3p"
      },
      "source": [
        "List comprehensions can also contain conditions:"
      ]
    },
    {
      "cell_type": "code",
      "execution_count": null,
      "metadata": {
        "id": "FuceJKWp5q3q"
      },
      "outputs": [],
      "source": [
        "nums = [0, 1, 2, 3, 4]\n",
        "even_squares = [x ** 2 for x in nums if x % 2 == 0]\n",
        "print(even_squares)"
      ]
    },
    {
      "cell_type": "markdown",
      "metadata": {
        "id": "Zn9lPGuA5q3t"
      },
      "source": [
        "#### Dictionaries"
      ]
    },
    {
      "cell_type": "markdown",
      "metadata": {
        "id": "qR4dwMJ15q3t"
      },
      "source": [
        "A dictionary stores (key, value) pairs, similar to a `Map` in Java or an object in Javascript. You can use it like this:"
      ]
    },
    {
      "cell_type": "code",
      "execution_count": null,
      "metadata": {
        "id": "XSqsRxER5q3u"
      },
      "outputs": [],
      "source": [
        "d = {'cat': 'cute', 'dog': 'furry'}  # Create a new dictionary with some data\n",
        "print(d['cat'])       # Get an entry from a dictionary; prints \"cute\"\n",
        "print('cat' in d)     # Check if a dictionary has a given key; prints \"True\""
      ]
    },
    {
      "cell_type": "code",
      "execution_count": null,
      "metadata": {
        "id": "6-fyFvpe5q3w"
      },
      "outputs": [],
      "source": [
        "d['fish'] = 'wet'    # Set an entry in a dictionary\n",
        "print(d['fish'])      # Prints \"wet\""
      ]
    },
    {
      "cell_type": "code",
      "execution_count": null,
      "metadata": {
        "id": "cqFipdSW5q3z"
      },
      "outputs": [],
      "source": [
        "print(d['monkey'])  # KeyError: 'monkey' not a key of d"
      ]
    },
    {
      "cell_type": "code",
      "execution_count": null,
      "metadata": {
        "id": "mqwjq1JB5q32"
      },
      "outputs": [],
      "source": [
        "print(d.get('monkey', 'N/A'))  # Get an element with a default; prints \"N/A\"\n",
        "print(d.get('fish', 'N/A'))    # Get an element with a default; prints \"wet\""
      ]
    },
    {
      "cell_type": "code",
      "execution_count": null,
      "metadata": {
        "id": "JSBfW9cM5q35"
      },
      "outputs": [],
      "source": [
        "del d['fish']    # Remove an element from a dictionary\n",
        "print(d.get('fish', 'N/A')) # \"fish\" is no longer a key; prints \"N/A\""
      ]
    },
    {
      "cell_type": "markdown",
      "metadata": {
        "id": "pJKwvNbN5q3-"
      },
      "source": [
        "You can find all you need to know about dictionaries in the [documentation](https://docs.python.org/3/library/stdtypes.html#dict)."
      ]
    },
    {
      "cell_type": "markdown",
      "metadata": {
        "id": "39GhDg_S5q3_"
      },
      "source": [
        "It is easy to iterate over the keys in a dictionary:"
      ]
    },
    {
      "cell_type": "code",
      "execution_count": null,
      "metadata": {
        "id": "AGUsSd285q4A"
      },
      "outputs": [],
      "source": [
        "d = {'person': 2, 'cat': 4, 'spider': 8}\n",
        "for animal in d:\n",
        "    legs = d[animal]\n",
        "    print('A {} has {} legs'.format(animal, legs))"
      ]
    },
    {
      "cell_type": "markdown",
      "metadata": {
        "id": "USWlJ1Uh5q4D"
      },
      "source": [
        "If you want access to keys and their corresponding values, use the iteritems method:"
      ]
    },
    {
      "cell_type": "code",
      "execution_count": null,
      "metadata": {
        "id": "ksXilYJx5q4E"
      },
      "outputs": [],
      "source": [
        "d = {'person': 2, 'cat': 4, 'spider': 8}\n",
        "for animal, legs in d.items():\n",
        "    print('A {} has {} legs'.format(animal, legs))"
      ]
    },
    {
      "cell_type": "markdown",
      "metadata": {
        "id": "41-CY-Pz5q4G"
      },
      "source": [
        "Dictionary comprehensions: These are similar to list comprehensions, but allow you to easily construct dictionaries. For example:"
      ]
    },
    {
      "cell_type": "code",
      "execution_count": null,
      "metadata": {
        "id": "BrEgZHHq5q4I"
      },
      "outputs": [],
      "source": [
        "nums = [0, 1, 2, 3, 4]\n",
        "even_num_to_square = {x: x ** 2 for x in nums if x % 2 == 0}\n",
        "print(even_num_to_square)"
      ]
    },
    {
      "cell_type": "markdown",
      "metadata": {
        "id": "tDD47vMB5q4L"
      },
      "source": [
        "#### Sets"
      ]
    },
    {
      "cell_type": "markdown",
      "metadata": {
        "id": "GA8eU1aU5q4M"
      },
      "source": [
        "A set is an unordered collection of distinct elements. As a simple example, consider the following:"
      ]
    },
    {
      "cell_type": "code",
      "execution_count": null,
      "metadata": {
        "id": "bqrfOvL85q4O"
      },
      "outputs": [],
      "source": [
        "animals = {'cat', 'dog'}\n",
        "print('cat' in animals)   # Check if an element is in a set; prints \"True\"\n",
        "print('fish' in animals)  # prints \"False\"\n"
      ]
    },
    {
      "cell_type": "code",
      "execution_count": null,
      "metadata": {
        "id": "iBoumJBc5q4S"
      },
      "outputs": [],
      "source": [
        "animals.add('fish')      # Add an element to a set\n",
        "print('fish' in animals)\n",
        "print(len(animals))      # Number of elements in a set;"
      ]
    },
    {
      "cell_type": "code",
      "execution_count": null,
      "metadata": {
        "id": "4WOQYagQ5q4W"
      },
      "outputs": [],
      "source": [
        "animals.add('cat')       # Adding an element that is already in the set does nothing\n",
        "print(len(animals))\n",
        "animals.remove('cat')    # Remove an element from a set\n",
        "print(len(animals))"
      ]
    },
    {
      "cell_type": "markdown",
      "metadata": {
        "id": "hq0u2OQT5q4b"
      },
      "source": [
        "Iterating over a set has the same syntax as iterating over a list; however since sets are unordered, you cannot make assumptions about the order in which you visit the elements of the set:"
      ]
    },
    {
      "cell_type": "code",
      "execution_count": null,
      "metadata": {
        "id": "0UFyLDm55q4c"
      },
      "outputs": [],
      "source": [
        "animals = {'cat', 'dog', 'fish'}\n",
        "for idx, animal in enumerate(animals):\n",
        "    print('#{}: {}'.format(idx + 1, animal))\n",
        "# Prints \"#1: cat\", \"#2: fish\", \"#3: dog\""
      ]
    },
    {
      "cell_type": "markdown",
      "metadata": {
        "id": "27txGVy95q4g"
      },
      "source": [
        "Set comprehensions: Like lists and dictionaries, we can easily construct sets using set comprehensions:"
      ]
    },
    {
      "cell_type": "code",
      "execution_count": null,
      "metadata": {
        "id": "Z8HkXcfM5q4h"
      },
      "outputs": [],
      "source": [
        "from math import sqrt\n",
        "print({int(sqrt(x)) for x in range(30)})"
      ]
    },
    {
      "cell_type": "markdown",
      "metadata": {
        "id": "fL0UctlO5q4j"
      },
      "source": [
        "#### Tuples"
      ]
    },
    {
      "cell_type": "markdown",
      "metadata": {
        "id": "iezj80Mu5q4j"
      },
      "source": [
        "A tuple is an (immutable) ordered list of values. A tuple is in many ways similar to a list; one of the most important differences is that tuples can be used as keys in dictionaries and as elements of sets, while lists cannot. Here is a trivial example:"
      ]
    },
    {
      "cell_type": "code",
      "execution_count": null,
      "metadata": {
        "id": "mdEyq1hC5q4k"
      },
      "outputs": [],
      "source": [
        "d = {(x, x + 1): x for x in range(10)}  # Create a dictionary with tuple keys\n",
        "t = (5, 6)       # Create a tuple\n",
        "print(type(t))\n",
        "print(d[t])\n",
        "print(d[(1, 2)])"
      ]
    },
    {
      "cell_type": "code",
      "execution_count": null,
      "metadata": {
        "id": "QTbRg_s75q4n"
      },
      "outputs": [],
      "source": [
        "t[0] = 1    # TypeError: 'tuple' object does not support item assignment"
      ]
    },
    {
      "cell_type": "markdown",
      "metadata": {
        "id": "w1VXSG2s5q4q"
      },
      "source": [
        "### Functions"
      ]
    },
    {
      "cell_type": "markdown",
      "metadata": {
        "id": "-4lAKLDY5q4r"
      },
      "source": [
        "Python functions are defined using the `def` keyword. For example:"
      ]
    },
    {
      "cell_type": "code",
      "execution_count": null,
      "metadata": {
        "id": "oysjtHVh5q4s"
      },
      "outputs": [],
      "source": [
        "def sign(x):\n",
        "    if x > 0:\n",
        "        return 'positive'\n",
        "    elif x < 0:\n",
        "        return 'negative'\n",
        "    else:\n",
        "        return 'zero'\n",
        "\n",
        "for x in [-1, 0, 1]:\n",
        "    print(sign(x))"
      ]
    },
    {
      "cell_type": "markdown",
      "metadata": {
        "id": "YhQkNfyd5q4x"
      },
      "source": [
        "We will often define functions to take optional keyword arguments, like this:"
      ]
    },
    {
      "cell_type": "code",
      "execution_count": null,
      "metadata": {
        "id": "TH04kWxK5q4y"
      },
      "outputs": [],
      "source": [
        "def hello(name, loud=False):\n",
        "    if loud:\n",
        "        print('HELLO, {}'.format(name.upper()))\n",
        "    else:\n",
        "        print('Hello, {}!'.format(name))\n",
        "\n",
        "hello('Bob')\n",
        "hello('Fred', loud=True)"
      ]
    },
    {
      "cell_type": "markdown",
      "metadata": {
        "id": "qvrL6-14JgG1"
      },
      "source": [
        "There is a lot more information about Python functions in the [documentation](https://docs.python.org/3.5/tutorial/controlflow.html#defining-functions)."
      ]
    },
    {
      "cell_type": "markdown",
      "metadata": {
        "id": "Xvw1X4q25q42"
      },
      "source": [
        "### Classes"
      ]
    },
    {
      "cell_type": "markdown",
      "metadata": {
        "id": "5ungbMSi5q42"
      },
      "source": [
        "The syntax for defining classes in Python is straightforward:"
      ]
    },
    {
      "cell_type": "code",
      "execution_count": null,
      "metadata": {
        "id": "P6H_HlXX5q42"
      },
      "outputs": [],
      "source": [
        "class Greeter:\n",
        "\n",
        "    # Constructor\n",
        "    def __init__(self, name):\n",
        "        self.name = name  # Create an instance variable\n",
        "\n",
        "    # Instance method\n",
        "    def greet(self, loud=False):\n",
        "        if loud:\n",
        "            print('HELLO, {}!'.format(self.name.upper()))\n",
        "        else:\n",
        "            print('Hello, {}'.format(self.name))\n",
        "\n",
        "g = Greeter('Fred')  # Construct an instance of the Greeter class\n",
        "g.greet()            # Call an instance method; prints \"Hello, Fred\"\n",
        "g.greet(loud=True)   # Call an instance method; prints \"HELLO, FRED!\""
      ]
    },
    {
      "cell_type": "markdown",
      "metadata": {
        "id": "DrGG-Y7ZCf1j"
      },
      "source": [
        "There is a lot more information about Python classes in the [documentation](https://docs.python.org/3.5/tutorial/classes.html)."
      ]
    },
    {
      "cell_type": "markdown",
      "metadata": {
        "id": "HC8PPoa55q44"
      },
      "source": [
        "## NumPy"
      ]
    },
    {
      "cell_type": "markdown",
      "metadata": {
        "id": "icQHJIvK5q45"
      },
      "source": [
        "NumPy is the core library for scientific computing in Python (see the full documentation which is [available online](https://docs.scipy.org/doc/numpy-1.13.0/reference/)). It provides a high-performance multidimensional array object, and tools for working with these arrays. If you are already familiar with MATLAB, you might find this [tutorial](http://wiki.scipy.org/NumPy_for_Matlab_Users) useful to get started with NumPy."
      ]
    },
    {
      "cell_type": "markdown",
      "metadata": {
        "id": "PNXqmeC45q46"
      },
      "source": [
        "To use NumPy, we first need to import the `numpy` library:"
      ]
    },
    {
      "cell_type": "code",
      "execution_count": null,
      "metadata": {
        "id": "nwFkFb_d5q47"
      },
      "outputs": [],
      "source": [
        "import numpy as np"
      ]
    },
    {
      "cell_type": "markdown",
      "metadata": {
        "id": "oEMc8JJP5q4-"
      },
      "source": [
        "### Arrays"
      ]
    },
    {
      "cell_type": "markdown",
      "metadata": {
        "id": "qY5T4B_55q4_"
      },
      "source": [
        "A NumPy array is a grid of values, all of the same type, and is indexed by a tuple of nonnegative integers. The number of dimensions is the rank of the array; the shape of an array is a tuple of integers giving the size of the array along each dimension."
      ]
    },
    {
      "cell_type": "markdown",
      "metadata": {
        "id": "ujIKsN7n5q4_"
      },
      "source": [
        "We can initialize NumPy arrays from nested Python lists, and access elements using square brackets:"
      ]
    },
    {
      "cell_type": "code",
      "execution_count": null,
      "metadata": {
        "id": "2T4S0Y8_5q5A"
      },
      "outputs": [],
      "source": [
        "a = np.array([1, 2, 3])  # Create a rank 1 array\n",
        "print(type(a), a.shape, a[0], a[1], a[2])\n",
        "a[0] = 5                 # Change an element of the array\n",
        "print(a)"
      ]
    },
    {
      "cell_type": "code",
      "execution_count": null,
      "metadata": {
        "id": "Cxp0IQI_5q5D"
      },
      "outputs": [],
      "source": [
        "b = np.array([[1,2,3],[4,5,6]])   # Create a rank 2 array\n",
        "print(b)"
      ]
    },
    {
      "cell_type": "code",
      "execution_count": null,
      "metadata": {
        "id": "NC7ntYGk5q5E"
      },
      "outputs": [],
      "source": [
        "print(b.shape)\n",
        "print(b[0, 0], b[0, 1], b[1, 0])"
      ]
    },
    {
      "cell_type": "markdown",
      "metadata": {
        "id": "XVEgPUy45q5H"
      },
      "source": [
        "Numpy also provides many functions to create arrays:"
      ]
    },
    {
      "cell_type": "code",
      "execution_count": null,
      "metadata": {
        "id": "J6asuT0G5q5H"
      },
      "outputs": [],
      "source": [
        "a = np.zeros((2,2))  # Create an array of all zeros\n",
        "print(a)"
      ]
    },
    {
      "cell_type": "code",
      "execution_count": null,
      "metadata": {
        "id": "No4YcRSX5q5J"
      },
      "outputs": [],
      "source": [
        "b = np.ones((1,2))   # Create an array of all ones\n",
        "print(b)"
      ]
    },
    {
      "cell_type": "code",
      "execution_count": null,
      "metadata": {
        "id": "arHMvOhi5q5L"
      },
      "outputs": [],
      "source": [
        "c = np.full((2,2), 7) # Create a constant array\n",
        "print(c)"
      ]
    },
    {
      "cell_type": "code",
      "execution_count": null,
      "metadata": {
        "id": "BVuZ89NW5q5M"
      },
      "outputs": [],
      "source": [
        "d = np.eye(2)        # Create a 2x2 identity matrix\n",
        "print(d)"
      ]
    },
    {
      "cell_type": "code",
      "execution_count": null,
      "metadata": {
        "id": "tY58UMFk5q5P"
      },
      "outputs": [],
      "source": [
        "e = np.random.random((2,2)) # Create an array filled with random values\n",
        "print(e)"
      ]
    },
    {
      "cell_type": "markdown",
      "metadata": {
        "id": "6KXensCQCf1k"
      },
      "source": [
        "You can read about other methods of array creation in the [documentation](http://docs.scipy.org/doc/numpy/user/basics.creation.html#arrays-creation)."
      ]
    },
    {
      "cell_type": "markdown",
      "metadata": {
        "id": "Cm1XbIVO5q5Q"
      },
      "source": [
        "### Array indexing"
      ]
    },
    {
      "cell_type": "markdown",
      "metadata": {
        "id": "pPuZbM_Z5q5R"
      },
      "source": [
        "NumPy offers several ways to index into arrays."
      ]
    },
    {
      "cell_type": "markdown",
      "metadata": {
        "id": "NHei_ely5q5R"
      },
      "source": [
        "#### Slicing\n",
        "\n",
        "Similar to Python lists, numpy arrays can be sliced. Since arrays may be multidimensional, you must specify a slice for each dimension of the array:"
      ]
    },
    {
      "cell_type": "code",
      "execution_count": null,
      "metadata": {
        "id": "CFp3nn085q5R"
      },
      "outputs": [],
      "source": [
        "import numpy as np\n",
        "\n",
        "# Create the following rank 2 array with shape (3, 4)\n",
        "# [[ 1  2  3  4]\n",
        "#  [ 5  6  7  8]\n",
        "#  [ 9 10 11 12]]\n",
        "a = np.array([[1,2,3,4], [5,6,7,8], [9,10,11,12]])\n",
        "\n",
        "# Use slicing to pull out the subarray consisting of the first 2 rows\n",
        "# and columns 1 and 2; b is the following array of shape (2, 2):\n",
        "# [[2 3]\n",
        "#  [6 7]]\n",
        "b = a[:2, 1:3]\n",
        "print(b)"
      ]
    },
    {
      "cell_type": "markdown",
      "metadata": {
        "id": "21E__llI5q5T"
      },
      "source": [
        "A slice of an array is a view into the same data, so modifying it will modify the original array."
      ]
    },
    {
      "cell_type": "code",
      "execution_count": null,
      "metadata": {
        "id": "5G-xCH_n5q5T"
      },
      "outputs": [],
      "source": [
        "print(a[0, 1])\n",
        "b[0, 0] = 77    # b[0, 0] is the same piece of data as a[0, 1]\n",
        "print(a[0, 1])"
      ]
    },
    {
      "cell_type": "markdown",
      "metadata": {
        "id": "7YnhuQqw5q5V"
      },
      "source": [
        "You can also mix integer indexing with slice indexing. However, doing so will yield an array of lower rank than the original array. Note that this is quite different from the way that MATLAB handles array slicing:"
      ]
    },
    {
      "cell_type": "code",
      "execution_count": null,
      "metadata": {
        "id": "P3l4gKyp5q5X"
      },
      "outputs": [],
      "source": [
        "# Create the following rank 2 array with shape (3, 4)\n",
        "a = np.array([[1,2,3,4], [5,6,7,8], [9,10,11,12]])\n",
        "print(a)"
      ]
    },
    {
      "cell_type": "markdown",
      "metadata": {
        "id": "abW3Kruq5q5Z"
      },
      "source": [
        "Two ways of accessing the data in the middle row of the array.\n",
        "Mixing integer indexing with slices yields an array of lower rank,\n",
        "while using only slices yields an array of the same rank as the\n",
        "original array:"
      ]
    },
    {
      "cell_type": "code",
      "execution_count": null,
      "metadata": {
        "id": "VtPRP0Gi5q5a"
      },
      "outputs": [],
      "source": [
        "row_r1 = a[1, :]    # Rank 1 view of the second row of a\n",
        "row_r2 = a[1:2, :]  # Rank 2 view of the second row of a\n",
        "row_r3 = a[[1], :]  # Rank 2 view of the second row of a\n",
        "print(row_r1, row_r1.shape)\n",
        "print(row_r2, row_r2.shape)\n",
        "print(row_r3, row_r3.shape)"
      ]
    },
    {
      "cell_type": "code",
      "execution_count": null,
      "metadata": {
        "id": "eTCT0bct5q5c"
      },
      "outputs": [],
      "source": [
        "# We can make the same distinction when accessing columns of an array:\n",
        "col_r1 = a[:, 1]\n",
        "col_r2 = a[:, 1:2]\n",
        "print(col_r1, col_r1.shape)\n",
        "print(col_r2, col_r2.shape)"
      ]
    },
    {
      "cell_type": "markdown",
      "metadata": {
        "id": "scGrCnbk5q5h"
      },
      "source": [
        "#### Integer array indexing\n",
        "\n",
        "When you index into NumPy arrays using slicing, the resulting array view will always be a subarray of the original array. In contrast, integer array indexing allows you to construct arbitrary arrays using the data from another array. Here is an example:"
      ]
    },
    {
      "cell_type": "code",
      "execution_count": null,
      "metadata": {
        "id": "CcvqvKKx5q5i"
      },
      "outputs": [],
      "source": [
        "a = np.array([[1,2], [3, 4], [5, 6]])\n",
        "\n",
        "# An example of integer array indexing.\n",
        "# The returned array will have shape (3,) and\n",
        "print(a[[0, 1, 2], [0, 1, 0]])\n",
        "\n",
        "# The above example of integer array indexing is equivalent to this:\n",
        "print(np.array([a[0, 0], a[1, 1], a[2, 0]]))"
      ]
    },
    {
      "cell_type": "code",
      "execution_count": null,
      "metadata": {
        "id": "Y4HIfrq05q5l"
      },
      "outputs": [],
      "source": [
        "# When using integer array indexing, you can reuse the same\n",
        "# element from the source array:\n",
        "print(a[[0, 0], [1, 1]])\n",
        "\n",
        "# Equivalent to the previous integer array indexing example\n",
        "print(np.array([a[0, 1], a[0, 1]]))"
      ]
    },
    {
      "cell_type": "markdown",
      "metadata": {
        "id": "7p8DhBFQ5q5q"
      },
      "source": [
        "One useful trick with integer array indexing is selecting or mutating one element from each row of a matrix:"
      ]
    },
    {
      "cell_type": "code",
      "execution_count": null,
      "metadata": {
        "id": "d8AJ849O5q5r"
      },
      "outputs": [],
      "source": [
        "# Create a new array from which we will select elements\n",
        "a = np.array([[1,2,3], [4,5,6], [7,8,9], [10, 11, 12]])\n",
        "print(a)"
      ]
    },
    {
      "cell_type": "code",
      "execution_count": null,
      "metadata": {
        "id": "QnezokHy5q5s"
      },
      "outputs": [],
      "source": [
        "# Create an array of indices\n",
        "b = np.array([0, 2, 0, 1])\n",
        "\n",
        "# Select one element from each row of a using the indices in b\n",
        "print(a[np.arange(4), b])  # Prints \"[ 1  6  7 11]\""
      ]
    },
    {
      "cell_type": "code",
      "execution_count": null,
      "metadata": {
        "id": "_iXO2tyM5q5u"
      },
      "outputs": [],
      "source": [
        "# Mutate one element from each row of a using the indices in b\n",
        "a[np.arange(4), b] += 10\n",
        "print(a)"
      ]
    },
    {
      "cell_type": "markdown",
      "metadata": {
        "id": "LkKSUFId5q5x"
      },
      "source": [
        "#### Boolean array indexing\n",
        "\n",
        "Boolean array indexing lets you pick out arbitrary elements of an array. Frequently this type of indexing is used to select the elements of an array that satisfy some condition. Here is an example:"
      ]
    },
    {
      "cell_type": "code",
      "execution_count": null,
      "metadata": {
        "id": "Z8SEDQTu5q5x"
      },
      "outputs": [],
      "source": [
        "import numpy as np\n",
        "\n",
        "a = np.array([[1,2], [3, 4], [5, 6]])\n",
        "\n",
        "bool_idx = (a > 2)  # Find the elements of a that are bigger than 2;\n",
        "                    # this returns a numpy array of Booleans of the same\n",
        "                    # shape as a, where each slot of bool_idx tells\n",
        "                    # whether that element of a is > 2.\n",
        "\n",
        "print(bool_idx)"
      ]
    },
    {
      "cell_type": "code",
      "execution_count": null,
      "metadata": {
        "id": "rRvDJXN25q5z"
      },
      "outputs": [],
      "source": [
        "# We use boolean array indexing to construct a rank 1 array\n",
        "# consisting of the elements of a corresponding to the True values\n",
        "# of bool_idx\n",
        "print(a[bool_idx])\n",
        "\n",
        "# We can do all of the above in a single concise statement:\n",
        "print(a[a > 2])"
      ]
    },
    {
      "cell_type": "markdown",
      "metadata": {
        "id": "enaYXsPT5q51"
      },
      "source": [
        "For brevity we have left out a lot of details about numpy array indexing; if you want to know more you should read the [documentation](http://docs.scipy.org/doc/numpy/reference/arrays.indexing.html)."
      ]
    },
    {
      "cell_type": "markdown",
      "metadata": {
        "id": "Xp-dmhK55q51"
      },
      "source": [
        "### Data types"
      ]
    },
    {
      "cell_type": "markdown",
      "metadata": {
        "id": "I1iAVr005q51"
      },
      "source": [
        "Every NumPy array is a grid of elements of the same type. NumPy provides a large set of numeric datatypes that you can use to construct arrays. NumPy tries to guess a data type when you create an array, but functions that construct arrays usually also include an optional argument to explicitly specify the datatype. Here is an example:"
      ]
    },
    {
      "cell_type": "code",
      "execution_count": null,
      "metadata": {
        "id": "Jhc1qiWe5q52"
      },
      "outputs": [],
      "source": [
        "x = np.array([1, 2])  # Let numpy choose the datatype\n",
        "y = np.array([1.0, 2.0])  # Let numpy choose the datatype\n",
        "z = np.array([1, 2], dtype=np.int64)  # Force a particular datatype\n",
        "\n",
        "print(x.dtype, y.dtype, z.dtype)"
      ]
    },
    {
      "cell_type": "markdown",
      "metadata": {
        "id": "dwsQbnfH5q53"
      },
      "source": [
        "You can read all about numpy data types in the [documentation](http://docs.scipy.org/doc/numpy/reference/arrays.dtypes.html)."
      ]
    },
    {
      "cell_type": "markdown",
      "metadata": {
        "id": "J0krzpaq5q54"
      },
      "source": [
        "### Array math"
      ]
    },
    {
      "cell_type": "markdown",
      "metadata": {
        "id": "MB1QONDf5q54"
      },
      "source": [
        "Basic mathematical functions operate elementwise on arrays, and are available both as operator overloads and as functions in the NumPy module:"
      ]
    },
    {
      "cell_type": "code",
      "execution_count": null,
      "metadata": {
        "id": "pqsjtRiM5q54"
      },
      "outputs": [],
      "source": [
        "x = np.array([[1,2],[3,4]], dtype=np.float64)\n",
        "y = np.array([[5,6],[7,8]], dtype=np.float64)\n",
        "\n",
        "# Elementwise sum; both produce the array\n",
        "print(x + y)\n",
        "print(np.add(x, y))"
      ]
    },
    {
      "cell_type": "code",
      "execution_count": null,
      "metadata": {
        "id": "8lUHQNVL5q58"
      },
      "outputs": [],
      "source": [
        "# Elementwise difference; both produce the array\n",
        "print(x - y)\n",
        "print(np.subtract(x, y))"
      ]
    },
    {
      "cell_type": "code",
      "execution_count": null,
      "metadata": {
        "id": "IC8ctFQk5q59"
      },
      "outputs": [],
      "source": [
        "# Elementwise product; both produce the array\n",
        "print(x * y)\n",
        "print(np.multiply(x, y))"
      ]
    },
    {
      "cell_type": "code",
      "execution_count": null,
      "metadata": {
        "id": "XXtTacc-5q5_"
      },
      "outputs": [],
      "source": [
        "# Elementwise division; both produce the array\n",
        "# [[ 0.2         0.33333333]\n",
        "#  [ 0.42857143  0.5       ]]\n",
        "print(x / y)\n",
        "print(np.divide(x, y))"
      ]
    },
    {
      "cell_type": "code",
      "execution_count": null,
      "metadata": {
        "id": "f8mK4UbW5q6A"
      },
      "outputs": [],
      "source": [
        "# Elementwise square root; produces the array\n",
        "# [[ 1.          1.41421356]\n",
        "#  [ 1.73205081  2.        ]]\n",
        "print(np.sqrt(x))"
      ]
    },
    {
      "cell_type": "markdown",
      "metadata": {
        "id": "gUaJRH_O5q6D"
      },
      "source": [
        "Note that unlike MATLAB, `*` is elementwise multiplication, not matrix multiplication. We instead use the `dot` function to compute inner products of vectors, to multiply a vector by a matrix, and to multiply matrices. `dot` is available both as a function in the `numpy` module and as an instance method of array objects:"
      ]
    },
    {
      "cell_type": "code",
      "execution_count": null,
      "metadata": {
        "id": "xpax7lRp5q6D"
      },
      "outputs": [],
      "source": [
        "x = np.array([[1,2],[3,4]])\n",
        "y = np.array([[5,6],[7,8]])\n",
        "\n",
        "v = np.array([9,10])\n",
        "w = np.array([11, 12])\n",
        "\n",
        "# Inner product of vectors; both produce 219\n",
        "print(v.dot(w))\n",
        "print(np.dot(v, w))"
      ]
    },
    {
      "cell_type": "code",
      "execution_count": null,
      "metadata": {
        "id": "QadKUnk95q6E"
      },
      "outputs": [],
      "source": [
        "# Matrix / vector product; both produce the rank 1 array [29 67]\n",
        "print(x.dot(v))\n",
        "print(np.dot(x, v))"
      ]
    },
    {
      "cell_type": "code",
      "execution_count": null,
      "metadata": {
        "id": "sIb3tp555q6G"
      },
      "outputs": [],
      "source": [
        "# Matrix / matrix product; both produce the rank 2 array\n",
        "# [[19 22]\n",
        "#  [43 50]]\n",
        "print(x.dot(y))\n",
        "print(np.dot(x, y))"
      ]
    },
    {
      "cell_type": "markdown",
      "metadata": {
        "id": "IE5yrZG45q6H"
      },
      "source": [
        "NumPy provides many useful functions for performing computations on arrays; one of the most useful is `sum`:"
      ]
    },
    {
      "cell_type": "code",
      "execution_count": null,
      "metadata": {
        "id": "y5K4V28p5q6I"
      },
      "outputs": [],
      "source": [
        "x = np.array([[1,2],[3,4]])\n",
        "\n",
        "print(np.sum(x))  # Compute sum of all elements; prints \"10\"\n",
        "print(np.sum(x, axis=0))  # Compute sum of each column; prints \"[4 6]\"\n",
        "print(np.sum(x, axis=1))  # Compute sum of each row; prints \"[3 7]\""
      ]
    },
    {
      "cell_type": "markdown",
      "metadata": {
        "id": "TOEJPgkk5q6K"
      },
      "source": [
        "You can find the full list of mathematical functions provided by numpy in the [documentation](http://docs.scipy.org/doc/numpy/reference/routines.math.html).\n",
        "\n",
        "Apart from computing mathematical functions using arrays, we frequently need to reshape or otherwise manipulate data in arrays. The simplest example of this type of operation is transposing a matrix; to transpose a matrix, simply use the `T` attribute of an array object:"
      ]
    },
    {
      "cell_type": "code",
      "execution_count": null,
      "metadata": {
        "id": "1NhZkHCm5q6K"
      },
      "outputs": [],
      "source": [
        "print(x)\n",
        "print(x.T)"
      ]
    },
    {
      "cell_type": "code",
      "execution_count": null,
      "metadata": {
        "id": "GCCJQ-835q6M"
      },
      "outputs": [],
      "source": [
        "v = np.array([[1,2,3]])\n",
        "print(v)\n",
        "print(v.T)"
      ]
    },
    {
      "cell_type": "markdown",
      "metadata": {
        "id": "98-AIk6u5q6O"
      },
      "source": [
        "### Broadcasting"
      ]
    },
    {
      "cell_type": "markdown",
      "metadata": {
        "id": "ihjioOGn5q6O"
      },
      "source": [
        "Broadcasting is a powerful mechanism that allows NumPy to work with arrays of different shapes when performing arithmetic operations. Frequently we have a smaller array and a larger array, and we want to use the smaller array multiple times to perform some operation on the larger array.\n",
        "\n",
        "For example, suppose that we want to add a constant vector to each row of a matrix. We could do it like this:"
      ]
    },
    {
      "cell_type": "code",
      "execution_count": null,
      "metadata": {
        "id": "DPtd0SVC5q6O"
      },
      "outputs": [],
      "source": [
        "# We will add the vector v to each row of the matrix x,\n",
        "# storing the result in the matrix y\n",
        "x = np.array([[1,2,3], [4,5,6], [7,8,9], [10, 11, 12]])\n",
        "v = np.array([1, 0, 1])\n",
        "y = np.empty_like(x)   # Create an empty matrix with the same shape as x\n",
        "\n",
        "# Add the vector v to each row of the matrix x with an explicit loop\n",
        "for i in range(4):\n",
        "    y[i, :] = x[i, :] + v\n",
        "\n",
        "print(y)"
      ]
    },
    {
      "cell_type": "markdown",
      "metadata": {
        "id": "V6krlZtE5q6Q"
      },
      "source": [
        "This works; however when the matrix `x` is very large, computing an explicit loop in Python could be slow. Note that adding the vector v to each row of the matrix `x` is equivalent to forming a matrix `vv` by stacking multiple copies of `v` vertically, then performing elementwise summation of `x` and `vv`. We could implement this approach like this:"
      ]
    },
    {
      "cell_type": "code",
      "execution_count": null,
      "metadata": {
        "id": "iACv1y1O5q6R"
      },
      "outputs": [],
      "source": [
        "vv = np.tile(v, (4, 1))  # Stack 4 copies of v on top of each other\n",
        "print(vv)                 # Prints \"[[1 0 1]\n",
        "                         #          [1 0 1]\n",
        "                         #          [1 0 1]\n",
        "                         #          [1 0 1]]\""
      ]
    },
    {
      "cell_type": "code",
      "execution_count": null,
      "metadata": {
        "id": "e9VwkQ4v5q6S"
      },
      "outputs": [],
      "source": [
        "y = x + vv  # Add x and vv elementwise\n",
        "print(y)"
      ]
    },
    {
      "cell_type": "markdown",
      "metadata": {
        "id": "SjJw6Plx5q6U"
      },
      "source": [
        "NumPy broadcasting allows us to perform this computation without actually creating multiple copies of v. Consider this version, using broadcasting:"
      ]
    },
    {
      "cell_type": "code",
      "execution_count": null,
      "metadata": {
        "id": "CKBoLNJg5q6U"
      },
      "outputs": [],
      "source": [
        "import numpy as np\n",
        "\n",
        "# We will add the vector v to each row of the matrix x,\n",
        "# storing the result in the matrix y\n",
        "x = np.array([[1,2,3], [4,5,6], [7,8,9], [10, 11, 12]])\n",
        "v = np.array([1, 0, 1])\n",
        "y = x + v  # Add v to each row of x using broadcasting\n",
        "print(y)"
      ]
    },
    {
      "cell_type": "markdown",
      "metadata": {
        "id": "3n0cLWAw5q6V"
      },
      "source": [
        "The line `y = x + v` works even though `x` has shape `(4, 3)` and `v` has shape `(3,)` due to broadcasting; this line works as if v actually had shape `(4, 3)`, where each row was a copy of `v`, and the sum was performed elementwise.\n",
        "\n",
        "Broadcasting two arrays together follows these rules:\n",
        "\n",
        "1. If the arrays do not have the same rank, prepend the shape of the lower rank array with 1s until both shapes have the same length.\n",
        "2. The two arrays are said to be *compatible* in a dimension if they have the same size in the dimension, or if one of the arrays has size 1 in that dimension.\n",
        "3. The arrays can be broadcast together if they are compatible in all dimensions.\n",
        "4. After broadcasting, each array behaves as if it had shape equal to the elementwise maximum of shapes of the two input arrays.\n",
        "5. In any dimension where one array had size 1 and the other array had size greater than 1, the first array behaves as if it were copied along that dimension\n",
        "\n",
        "If this explanation does not make sense, try reading the explanation from the [documentation](http://docs.scipy.org/doc/numpy/user/basics.broadcasting.html) or this [explanation](http://wiki.scipy.org/EricsBroadcastingDoc).\n",
        "\n",
        "Functions that support broadcasting are known as universal functions. You can find the list of all universal functions in the [documentation](http://docs.scipy.org/doc/numpy/reference/ufuncs.html#available-ufuncs).\n",
        "\n",
        "Here are some applications of broadcasting:"
      ]
    },
    {
      "cell_type": "code",
      "execution_count": null,
      "metadata": {
        "id": "8lsu4IME5q6W"
      },
      "outputs": [],
      "source": [
        "# Compute outer product of vectors\n",
        "v = np.array([1,2,3])  # v has shape (3,)\n",
        "w = np.array([4,5])    # w has shape (2,)\n",
        "# To compute an outer product, we first reshape v to be a column\n",
        "# vector of shape (3, 1); we can then broadcast it against w to yield\n",
        "# an output of shape (3, 2), which is the outer product of v and w:\n",
        "\n",
        "print(np.reshape(v, (3, 1)) * w)"
      ]
    },
    {
      "cell_type": "code",
      "execution_count": null,
      "metadata": {
        "id": "-orCUm6c5q6X"
      },
      "outputs": [],
      "source": [
        "# Add a vector to each row of a matrix\n",
        "x = np.array([[1,2,3], [4,5,6]])\n",
        "# x has shape (2, 3) and v has shape (3,) so they broadcast to (2, 3),\n",
        "# giving the following matrix:\n",
        "\n",
        "print(x + v)"
      ]
    },
    {
      "cell_type": "code",
      "execution_count": null,
      "metadata": {
        "id": "fAuY02dP5q6b"
      },
      "outputs": [],
      "source": [
        "# Add a vector to each column of a matrix\n",
        "# x has shape (2, 3) and w has shape (2,).\n",
        "# If we transpose x then it has shape (3, 2) and can be broadcast\n",
        "# against w to yield a result of shape (3, 2); transposing this result\n",
        "# yields the final result of shape (2, 3) which is the matrix x with\n",
        "# the vector w added to each column. Gives the following matrix:\n",
        "\n",
        "print((x.T + w).T)"
      ]
    },
    {
      "cell_type": "code",
      "execution_count": null,
      "metadata": {
        "id": "hMzxU0GW5q6c"
      },
      "outputs": [],
      "source": [
        "# Another solution is to reshape w to be a row vector of shape (2, 1);\n",
        "# we can then broadcast it directly against x to produce the same\n",
        "# output.\n",
        "print(x + np.reshape(w, (2, 1)))"
      ]
    },
    {
      "cell_type": "code",
      "execution_count": null,
      "metadata": {
        "id": "jGCfbEhK5q6d"
      },
      "outputs": [],
      "source": [
        "# Multiply a matrix by a constant:\n",
        "# x has shape (2, 3). Numpy treats scalars as arrays of shape ();\n",
        "# these can be broadcast together to shape (2, 3), producing the\n",
        "# following array:\n",
        "print(x * 2)"
      ]
    },
    {
      "cell_type": "markdown",
      "metadata": {
        "id": "4srkWKOE5q6f"
      },
      "source": [
        "Broadcasting typically makes your code more concise and faster, so you should strive to use it where possible."
      ]
    },
    {
      "cell_type": "markdown",
      "metadata": {
        "id": "nWnBC2eeCf1o"
      },
      "source": [
        "### NumPy documentation"
      ]
    },
    {
      "cell_type": "markdown",
      "metadata": {
        "id": "vdNrBYZK5q6f"
      },
      "source": [
        "This brief overview has touched on many of the important things that you need to know about NumPy, but is far from complete. Check out the [numpy reference](http://docs.scipy.org/doc/numpy/reference/) to find out much more about NumPy."
      ]
    },
    {
      "cell_type": "markdown",
      "metadata": {
        "id": "BKz-zLoSUdb8"
      },
      "source": [
        "### TODO:  \n",
        "Create a Numpy array `x` with dimensions 1x3 and the values are:\n",
        "$$x = \\begin{bmatrix}1 & 2 & 3\n",
        "\\end{bmatrix}$$\n",
        "\n",
        "Create a Numpy array `y` with dimensions 2x3 and the values are:\n",
        "$$y = \\begin{bmatrix}\n",
        "4 & 5 & 6 \\\\\n",
        "-7 & -8 & -9\n",
        "\\end{bmatrix}$$"
      ]
    },
    {
      "cell_type": "code",
      "execution_count": null,
      "metadata": {
        "id": "DmKZ-kS5Udb8"
      },
      "outputs": [],
      "source": [
        "import numpy as np\n",
        "# your code starts here\n",
        "\n",
        "x = np.asarray([[1,2,3]])\n",
        "y = np.asarray([[4,5,6],[-7, -8, -9]])\n",
        "\n",
        "print(x.shape)\n",
        "print(y.shape)"
      ]
    },
    {
      "cell_type": "markdown",
      "metadata": {
        "id": "R1g1onEEUdb9"
      },
      "source": [
        "### TODO:\n",
        "\n",
        "Create another empty array `y_t` with dimensions of 3x2. Without using Numpy's `transpoe` or `.T` function, manually transpose array `y` and store in `y_t` using for loops. Print out `y_t`."
      ]
    },
    {
      "cell_type": "code",
      "execution_count": null,
      "metadata": {
        "id": "ka7pt4frUdb9"
      },
      "outputs": [],
      "source": [
        "y_t = np.empty((3,2))\n",
        "\n",
        "row = y.shape[0]\n",
        "col = y.shape[1]\n",
        "\n",
        "for i in range (row):\n",
        "  for j in range (col):\n",
        "\n",
        "    y_t[j,i] = y[i,j]\n",
        "\n",
        "print(y_t)\n",
        "\n",
        "\n",
        "\n"
      ]
    },
    {
      "cell_type": "markdown",
      "metadata": {
        "id": "wPzp7wg_Udb9"
      },
      "source": [
        "### TODO:\n",
        "Create an array `z` with dimensions of 1x2 filled with zero values. Manually perform matrix multiplication between `x` array and array `y_t` using for loops. Remember, matrix multiplication involves the dot product of rows and columns, and you should not use Numpy's `matmul` or `dot` functions. Assign the result to `z` and print it out."
      ]
    },
    {
      "cell_type": "code",
      "execution_count": null,
      "metadata": {
        "id": "tfWLO_sNUdb9"
      },
      "outputs": [],
      "source": [
        "z = np.zeros((1,2))\n",
        "\n",
        "\n",
        "\n",
        "for i in range(z.shape[0]):            # Iterate over the rows of z (which is just 1 row in this case)\n",
        "    for j in range(z.shape[1]):        # Iterate over the columns of z\n",
        "        for k in range(x.shape[1]):    # Iterate over the elements in the row of x and column of y_t\n",
        "            z[i, j] += x[i, k] * y_t[k, j]\n",
        "\n",
        "print(z)\n"
      ]
    },
    {
      "cell_type": "markdown",
      "metadata": {
        "id": "JD7_XDuVUdb9"
      },
      "source": [
        "### TODO:\n",
        "Let's use NumPy's function to do the same tasks again.\n",
        "\n",
        "Use Numpy's `transpose` function to transpose array `y` into a 3x2 array `y_t`. Print out `y_t`. Make sure the resuls is identical as the previous question."
      ]
    },
    {
      "cell_type": "code",
      "execution_count": null,
      "metadata": {
        "id": "nC_wA8tQUdb9"
      },
      "outputs": [],
      "source": [
        "y_t = np.transpose(y)\n",
        "print(y_t)"
      ]
    },
    {
      "cell_type": "markdown",
      "metadata": {
        "id": "hoFxGON9Udb9"
      },
      "source": [
        "### TODO:\n",
        "Use Numpy's `matmul` function to perform matrix multiplication between array `x` and `y_t` array. Make sure the results are identical as the previous question."
      ]
    },
    {
      "cell_type": "code",
      "execution_count": null,
      "metadata": {
        "id": "LVoUlHq_Udb9"
      },
      "outputs": [],
      "source": [
        "print(np.matmul(x, y_t))"
      ]
    },
    {
      "cell_type": "markdown",
      "metadata": {
        "id": "7IlylG5tUdb9"
      },
      "source": [
        "### TODO:\n",
        "Implement the activation function named `relu`. The function returns 0 if it receives any negative input, but for any positive value input it returns that value back. Mathematically, the `relu` function is defined as:\n",
        "$$\n",
        "f(x)=max(0,x)\n",
        "$$\n",
        "This function should work on a single number and also a NumPy array. Hint: use NumPy's `maximum` function."
      ]
    },
    {
      "cell_type": "code",
      "execution_count": null,
      "metadata": {
        "id": "zGX6mb0AUdb9"
      },
      "outputs": [],
      "source": [
        "def relu(x):\n",
        "  return np.maximum(0,x)"
      ]
    },
    {
      "cell_type": "markdown",
      "metadata": {
        "id": "1WpbgFpMUdb-"
      },
      "source": [
        "### TODO:\n",
        "Compute and print `relu` of 3, -2 and `z`."
      ]
    },
    {
      "cell_type": "code",
      "execution_count": null,
      "metadata": {
        "id": "Dat7QRW7Udb-"
      },
      "outputs": [],
      "source": [
        "print(relu(3))\n",
        "print(relu(-2))\n",
        "print(relu(z))"
      ]
    },
    {
      "cell_type": "markdown",
      "metadata": {
        "id": "UKm2hzgz5q6f"
      },
      "source": [
        "## Matplotlib"
      ]
    },
    {
      "cell_type": "markdown",
      "metadata": {
        "id": "VDFgGJz45q6g"
      },
      "source": [
        "Matplotlib is a plotting library. In this section give a brief introduction to the `matplotlib.pyplot` module, which provides a plotting system similar to that of MATLAB."
      ]
    },
    {
      "cell_type": "code",
      "execution_count": null,
      "metadata": {
        "id": "0bTVXB7L5q6g"
      },
      "outputs": [],
      "source": [
        "import matplotlib.pyplot as plt"
      ]
    },
    {
      "cell_type": "markdown",
      "metadata": {
        "id": "ELWE3_9J5q6h"
      },
      "source": [
        "By running this special IPython command, we will be displaying plots inline in Jupyter notebooks:"
      ]
    },
    {
      "cell_type": "code",
      "execution_count": null,
      "metadata": {
        "id": "H0vjMgyu5q6h"
      },
      "outputs": [],
      "source": [
        "%matplotlib inline"
      ]
    },
    {
      "cell_type": "markdown",
      "metadata": {
        "id": "EQMkKaNH5q6j"
      },
      "source": [
        "### Plotting"
      ]
    },
    {
      "cell_type": "markdown",
      "metadata": {
        "id": "biPNrc5O5q6j"
      },
      "source": [
        "The most important function in `matplotlib` is plot, which allows you to plot 2D data. Here is a simple example:"
      ]
    },
    {
      "cell_type": "code",
      "execution_count": null,
      "metadata": {
        "id": "bw_DJK-E5q6j"
      },
      "outputs": [],
      "source": [
        "# Compute the x and y coordinates for points on a sine curve\n",
        "x = np.arange(0, 3 * np.pi, 0.1)\n",
        "y_sin = np.sin(x)\n",
        "\n",
        "# Plot the points using matplotlib\n",
        "plt.plot(x, y_sin)"
      ]
    },
    {
      "cell_type": "markdown",
      "metadata": {
        "id": "7i9nqVNL5q6l"
      },
      "source": [
        "With just a little bit of extra work we can easily plot multiple lines at once, and add a title, legend, and axis labels:"
      ]
    },
    {
      "cell_type": "code",
      "execution_count": null,
      "metadata": {
        "id": "v96UGlPT5q6l"
      },
      "outputs": [],
      "source": [
        "y_cos = np.cos(x)\n",
        "\n",
        "# Plot the points using matplotlib\n",
        "plt.plot(x, y_sin)\n",
        "plt.plot(x, y_cos)\n",
        "plt.xlabel('x axis label')\n",
        "plt.ylabel('y axis label')\n",
        "plt.title('Sine and Cosine')\n",
        "plt.legend(['Sine', 'Cosine'])"
      ]
    },
    {
      "cell_type": "markdown",
      "metadata": {
        "id": "jJCY7j3Y5q6p"
      },
      "source": [
        "### Subplots"
      ]
    },
    {
      "cell_type": "markdown",
      "metadata": {
        "id": "vPAoU6yZ5q6q"
      },
      "source": [
        "You can plot different things in the same figure using the subplot function. Here is an example:"
      ]
    },
    {
      "cell_type": "code",
      "execution_count": null,
      "metadata": {
        "id": "Lhgz6eYq5q6q"
      },
      "outputs": [],
      "source": [
        "# Compute the x and y coordinates for points on sine and cosine curves\n",
        "x = np.arange(0, 3 * np.pi, 0.1)\n",
        "y_sin = np.sin(x)\n",
        "y_cos = np.cos(x)\n",
        "\n",
        "# Set up a subplot grid that has height 2 and width 1,\n",
        "# and set the first such subplot as active.\n",
        "plt.subplot(2, 1, 1)\n",
        "\n",
        "# Make the first plot\n",
        "plt.plot(x, y_sin)\n",
        "plt.title('Sine')\n",
        "\n",
        "# Set the second subplot as active, and make the second plot.\n",
        "plt.subplot(2, 1, 2)\n",
        "plt.plot(x, y_cos)\n",
        "plt.title('Cosine')\n",
        "\n",
        "# Show the figure.\n",
        "plt.show()"
      ]
    },
    {
      "cell_type": "markdown",
      "metadata": {
        "id": "nCEH5MGI5q6s"
      },
      "source": [
        "You can read much more about the `subplot` function in the [documentation](http://matplotlib.org/api/pyplot_api.html#matplotlib.pyplot.subplot)."
      ]
    },
    {
      "cell_type": "markdown",
      "metadata": {
        "id": "FT1ejFNGUdb_"
      },
      "source": [
        "### TODO:\n",
        "Create a range of `x` values using np.arange from -5 to 5 with a step of 0.1. Then, calculate the corresponding ReLU values for each `x` using the function `relu` defined above. Finally, use Matplotlib to plot the ReLU function, label the x-axes as `Input`, y-axes as `Output`, add a title `ReLU Activation Function`, and display the plot."
      ]
    },
    {
      "cell_type": "markdown",
      "source": [
        "# New Section"
      ],
      "metadata": {
        "id": "E2KEdUVej1xs"
      }
    },
    {
      "cell_type": "code",
      "execution_count": null,
      "metadata": {
        "id": "by4gjm8EUdb_"
      },
      "outputs": [],
      "source": [
        "x = np.arange(-5,5,0.1)\n",
        "y = relu(x)\n",
        "\n",
        "plt.plot(x, y)\n",
        "plt.xlabel('Input')\n",
        "plt.ylabel('Output')\n",
        "plt.title('ReLU Activation Function')"
      ]
    },
    {
      "cell_type": "markdown",
      "metadata": {
        "id": "lPewGAKnCf1p"
      },
      "source": [
        "## Other packages: SciPy and scikit-learn\n",
        "\n",
        "NumPy provides a high-performance multidimensional array and basic tools to compute with and manipulate these arrays. [SciPy](http://docs.scipy.org/doc/scipy/reference/) builds on this, and provides a large number of functions that operate on numpy arrays and are useful for different types of scientific and engineering applications. The best way to get familiar with SciPy is to browse the [documentation](http://docs.scipy.org/doc/scipy/reference/index.html).\n",
        "\n",
        "The [scikit-learn](https://scikit-learn.org/stable/) library provides a number of classes and functions specifically for doing machine learning in Python. It is built on top of NumPy, SciPy and Matplotlib."
      ]
    },
    {
      "cell_type": "markdown",
      "metadata": {
        "id": "6mObYgBb55Ug"
      },
      "source": [
        "## Acknowledgements\n",
        "\n",
        "This practical is based on an adaptation of an adaptation of an adaptation of an adaptation:\n",
        "\n",
        "- The original practical was developed by Justin Johnson for the Stanford CS231n course. [[link](http://cs231n.github.io/python-numpy-tutorial/)]\n",
        "- This was subsequently adaptabed by Volodymyr Kuleshov and Isaac Caswell.\n",
        "- This was then adaptated for the Deep Learning Indaba 2019. [[link](https://colab.research.google.com/github/deep-learning-indaba/indaba-pracs-2019/blob/master/Python_Intro.ipynb)]\n",
        "- This was then adaptated by Herman Kamper for DatA414 at Stellenbosch University.\n",
        "- The current version is adaptated for EE599:MLSys at University of Southern California."
      ]
    }
  ],
  "metadata": {
    "colab": {
      "name": "Python Refresher",
      "private_outputs": true,
      "provenance": [],
      "toc_visible": true
    },
    "kernelspec": {
      "display_name": "Python 3",
      "language": "python",
      "name": "python3"
    },
    "language_info": {
      "codemirror_mode": {
        "name": "ipython",
        "version": 3
      },
      "file_extension": ".py",
      "mimetype": "text/x-python",
      "name": "python",
      "nbconvert_exporter": "python",
      "pygments_lexer": "ipython3",
      "version": "3.9.18"
    }
  },
  "nbformat": 4,
  "nbformat_minor": 0
}